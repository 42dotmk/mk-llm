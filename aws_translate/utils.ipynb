{
 "cells": [
  {
   "cell_type": "markdown",
   "metadata": {},
   "source": [
    "## Check length of files in dir"
   ]
  },
  {
   "cell_type": "code",
   "execution_count": null,
   "metadata": {},
   "outputs": [],
   "source": [
    "import os\n",
    "\n",
    "def count_total_characters(directory):\n",
    "    total_characters = 0\n",
    "\n",
    "    # Iterate through all files in the directory\n",
    "    for filename in os.listdir(directory):\n",
    "        # Check if the file is a text file\n",
    "        if filename.endswith('.txt'):\n",
    "            # Open the file in read mode\n",
    "            with open(os.path.join(directory, filename), 'r') as file:\n",
    "                # Read the contents of the file and count the characters\n",
    "                content = file.read()\n",
    "                total_characters += len(content)\n",
    "\n",
    "    return total_characters\n",
    "\n",
    "# Specify the directory containing the text files\n",
    "directory_path = '/path/to/your/directory'\n",
    "\n",
    "# Call the function and print the total number of characters\n",
    "total_characters = count_total_characters(directory_path)\n",
    "print(f'Total characters in all text files: {total_characters}')\n"
   ]
  },
  {
   "cell_type": "markdown",
   "metadata": {},
   "source": [
    "## Get files from S3 bucket"
   ]
  },
  {
   "cell_type": "code",
   "execution_count": 12,
   "metadata": {
    "ExecuteTime": {
     "end_time": "2024-05-03T16:29:54.817214700Z",
     "start_time": "2024-05-03T16:26:19.915554800Z"
    }
   },
   "outputs": [],
   "source": [
    "import boto3\n",
    "import os\n",
    "\n",
    "os.environ[\"AWS_ACCESS_KEY_ID\"] = \"access key here\"\n",
    "os.environ[\"AWS_SECRET_ACCESS_KEY\"] = \"secret key here\"\n",
    "\n",
    "def download_files_from_s3(bucket_name, prefix, local_directory):\n",
    "    s3 = boto3.client('s3')\n",
    "    paginator = s3.get_paginator('list_objects_v2')\n",
    "\n",
    "    for result in paginator.paginate(Bucket=bucket_name, Prefix=prefix):\n",
    "        if 'Contents' in result:\n",
    "            for obj in result['Contents']:\n",
    "                key = obj['Key']\n",
    "                local_file_path = os.path.join(local_directory, key)\n",
    "                local_file_dir = os.path.dirname(local_file_path)\n",
    "                if not os.path.exists(local_file_dir):\n",
    "                    os.makedirs(local_file_dir)\n",
    "                s3.download_file(bucket_name, key, local_file_path)\n",
    "\n",
    "# Usage\n",
    "bucket_name = 'translate-nt-out'\n",
    "prefix = '122616864019-TranslateText-2e667d98ff858fccb914864a88bc6076/'\n",
    "local_directory = 'output_data/data_mk_part'\n",
    "\n",
    "download_files_from_s3(bucket_name, prefix, local_directory)\n"
   ]
  }
 ],
 "metadata": {
  "language_info": {
   "name": "python"
  },
  "kernelspec": {
   "name": "python3",
   "language": "python",
   "display_name": "Python 3 (ipykernel)"
  }
 },
 "nbformat": 4,
 "nbformat_minor": 2
}
